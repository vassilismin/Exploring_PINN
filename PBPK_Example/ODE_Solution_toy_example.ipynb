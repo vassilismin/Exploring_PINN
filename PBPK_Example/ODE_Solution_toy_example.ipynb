{
 "cells": [
  {
   "cell_type": "code",
   "execution_count": 23,
   "id": "75d69c57",
   "metadata": {},
   "outputs": [],
   "source": [
    "import numpy as np\n",
    "from scipy.integrate import solve_ivp"
   ]
  },
  {
   "cell_type": "code",
   "execution_count": 24,
   "id": "4157eea9",
   "metadata": {},
   "outputs": [],
   "source": [
    "# A function to calculate the values of the constant parameters k\n",
    "def k_values(k):\n",
    "    k1 = k\n",
    "    k2 = 1.5*k\n",
    "    k3 = k/2\n",
    "    return[k1,k2,k3]"
   ]
  },
  {
   "cell_type": "code",
   "execution_count": 14,
   "id": "d7531859",
   "metadata": {},
   "outputs": [],
   "source": [
    "def PBPK_ODEs(t, m):\n",
    "    k1, k2, k3 = k_values(0.5)\n",
    "    m1, m2, m3 = m\n",
    "    dm1dt = -k1*m1 + k2*m2\n",
    "    dm2dt = k1*m1 - k2*m2 - k3*m2\n",
    "    dm3dt = k3*m2\n",
    "    return[dm1dt, dm2dt, dm3dt]"
   ]
  },
  {
   "cell_type": "code",
   "execution_count": 17,
   "id": "58495aa4",
   "metadata": {},
   "outputs": [
    {
     "name": "stdout",
     "output_type": "stream",
     "text": [
      "(0, 10)\n",
      "[0, 1, 2, 3, 4, 5, 6, 7, 8, 9, 10]\n",
      "[0, 1, 2, 3, 4, 5, 6, 7, 8, 9, 10]\n"
     ]
    }
   ],
   "source": [
    "# Create time domain\n",
    "t_span = (0,10)\n",
    "print(t_span)\n",
    "t_eval =   list(range(0,11,1)) #np.linspace(0,11,11, endpoint=False)\n",
    "print(t_eval)\n",
    "t = list(range(0,11,1))\n",
    "print(t)"
   ]
  },
  {
   "cell_type": "code",
   "execution_count": 18,
   "id": "a25fa1fa",
   "metadata": {},
   "outputs": [
    {
     "name": "stdout",
     "output_type": "stream",
     "text": [
      "[3, 1, 0]\n"
     ]
    }
   ],
   "source": [
    "# Initial condition\n",
    "m1_0 = 3 \n",
    "m2_0 = 1 \n",
    "m3_0 = 0 \n",
    "inits = [m1_0, m2_0, m3_0]\n",
    "print(inits)"
   ]
  },
  {
   "cell_type": "code",
   "execution_count": 20,
   "id": "9d8915d1",
   "metadata": {
    "scrolled": true
   },
   "outputs": [
    {
     "name": "stdout",
     "output_type": "stream",
     "text": [
      "  message: 'The solver successfully reached the end of the integration interval.'\n",
      "     nfev: 62\n",
      "     njev: 0\n",
      "      nlu: 0\n",
      "      sol: None\n",
      "   status: 0\n",
      "  success: True\n",
      "        t: array([0.00000000e+00, 5.65307236e-03, 6.21837959e-02, 6.04122649e-01,\n",
      "       1.39034391e+00, 2.34759533e+00, 3.53600361e+00, 5.04683416e+00,\n",
      "       7.04053175e+00, 9.68706662e+00, 1.00000000e+01])\n",
      " t_events: None\n",
      "        y: array([[3.00000000e+00, 2.99577215e+00, 2.95477177e+00, 2.65276552e+00,\n",
      "        2.38034196e+00, 2.15298250e+00, 1.92842605e+00, 1.68503388e+00,\n",
      "        1.41209295e+00, 1.11730395e+00, 1.08663035e+00],\n",
      "       [1.00000000e+00, 1.00281259e+00, 1.02944918e+00, 1.17995018e+00,\n",
      "        1.21481574e+00, 1.15724561e+00, 1.05315417e+00, 9.23546824e-01,\n",
      "        7.74316050e-01, 6.12219493e-01, 5.95647858e-01],\n",
      "       [0.00000000e+00, 1.41525884e-03, 1.57790503e-02, 1.67284300e-01,\n",
      "        4.04842300e-01, 6.89771892e-01, 1.01841978e+00, 1.39141930e+00,\n",
      "        1.81359100e+00, 2.27047656e+00, 2.31772179e+00]])\n",
      " y_events: None\n"
     ]
    }
   ],
   "source": [
    "solution_ivp = solve_ivp(PBPK_ODEs, t_span,  inits)#, args=k)\n",
    "print(solution_ivp)"
   ]
  }
 ],
 "metadata": {
  "kernelspec": {
   "display_name": "Python 3 (ipykernel)",
   "language": "python",
   "name": "python3"
  },
  "language_info": {
   "codemirror_mode": {
    "name": "ipython",
    "version": 3
   },
   "file_extension": ".py",
   "mimetype": "text/x-python",
   "name": "python",
   "nbconvert_exporter": "python",
   "pygments_lexer": "ipython3",
   "version": "3.9.13"
  }
 },
 "nbformat": 4,
 "nbformat_minor": 5
}
