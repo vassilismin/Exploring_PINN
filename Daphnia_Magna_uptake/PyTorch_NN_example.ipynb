{
 "cells": [
  {
   "cell_type": "markdown",
   "id": "2072b718-87d5-49c4-8eca-fa4e2e8114ca",
   "metadata": {},
   "source": [
    "This is a simple example of how to build and train a simple Neural netwrok using Pytorch\n",
    "source: https://towardsdatascience.com/build-a-simple-neural-network-using-pytorch-38c55158028d"
   ]
  },
  {
   "cell_type": "markdown",
   "id": "4688651d-22ad-4cf0-b7b2-f359ffa9cd30",
   "metadata": {},
   "source": [
    "### 1. Import PyTorch library"
   ]
  },
  {
   "cell_type": "code",
   "execution_count": 1,
   "id": "38163942-255c-4d39-a50b-580ba069d877",
   "metadata": {},
   "outputs": [],
   "source": [
    "import torch\n",
    "import torch.nn as nn"
   ]
  },
  {
   "cell_type": "markdown",
   "id": "01cb2acb-978c-4f81-ae5c-bfce0a90318f",
   "metadata": {},
   "source": [
    "### 2. Prepare Dataset"
   ]
  },
  {
   "cell_type": "code",
   "execution_count": 2,
   "id": "d560e053-a1f4-4180-b58e-ed0168908476",
   "metadata": {},
   "outputs": [],
   "source": [
    "n_input, n_hidden, n_out, batch_size, learning_rate = 10, 15, 1, 100, 0.01"
   ]
  },
  {
   "cell_type": "markdown",
   "id": "02335c56-176b-4616-a9db-074621bbce64",
   "metadata": {},
   "source": [
    "We will now randomly initialize the dummy input and the output target data (or tensor) as follows:"
   ]
  },
  {
   "cell_type": "code",
   "execution_count": 5,
   "id": "77de61b5-0172-43a1-92cb-1e6280723479",
   "metadata": {},
   "outputs": [],
   "source": [
    "data_x = torch.randn(batch_size, n_input)\n",
    "data_y = (torch.rand(size=(batch_size, 1)) < 0.5).float()"
   ]
  },
  {
   "cell_type": "code",
   "execution_count": 15,
   "id": "eda43d9c-8df8-4722-a4c9-18295de5a61d",
   "metadata": {},
   "outputs": [
    {
     "data": {
      "text/plain": [
       "tensor([[ 0.3004,  0.5199,  0.2633,  1.1873,  0.9230, -1.3414, -0.2128, -0.0769,\n",
       "          0.8661,  0.7165],\n",
       "        [-1.5108,  0.0197,  0.0707, -1.1177,  0.1692, -1.3134,  0.2359, -0.4369,\n",
       "          0.6340,  0.2196],\n",
       "        [ 0.5936, -1.8959, -0.3948,  0.0217, -1.7056,  0.4411,  0.1378, -1.0658,\n",
       "          0.6198, -0.2780],\n",
       "        [-1.6130, -0.5370, -0.9061, -1.4752,  1.4994,  0.3451, -1.3804,  0.9059,\n",
       "         -1.1106,  2.2627],\n",
       "        [ 0.5782,  1.1876, -1.1510, -0.5131, -0.5331,  1.3649,  0.5649,  2.9205,\n",
       "          2.3572, -0.5363],\n",
       "        [ 2.1297,  1.1091, -2.5526,  1.6785,  1.3581,  0.9741,  0.7146, -1.3004,\n",
       "         -1.0078,  0.2777],\n",
       "        [-0.7768,  0.0579,  0.2804,  1.4646,  0.0777, -0.6998,  0.9406, -0.3469,\n",
       "          0.7457, -1.0708],\n",
       "        [-0.4346,  0.2634, -0.0090,  0.2926,  0.7208, -0.8291,  0.0932, -0.8623,\n",
       "          1.3535,  0.4708],\n",
       "        [-0.9721,  0.7326,  0.6175,  0.2352, -1.4649, -0.3153,  0.1184,  0.5275,\n",
       "         -1.2547, -0.5775],\n",
       "        [-0.4122,  0.4689,  0.2166,  0.4428,  0.4854,  0.6902,  0.1159, -0.1785,\n",
       "          0.9547,  0.9628],\n",
       "        [-0.3473, -0.4315,  0.5489, -0.2960, -0.8911,  1.4322,  0.6148, -1.0923,\n",
       "          0.7090, -0.6506],\n",
       "        [-0.4173, -0.1956,  0.1063, -1.5983,  0.3553, -0.4169, -1.6496, -0.4726,\n",
       "          0.2171,  0.5668],\n",
       "        [ 1.1618,  0.2453, -0.7439, -0.8105, -0.5035, -1.1143,  0.4818, -0.2765,\n",
       "         -2.0098,  1.3194],\n",
       "        [ 0.6219, -1.3124,  0.5047, -0.5913,  0.9639, -1.9742, -1.3260, -1.1229,\n",
       "          0.7530, -0.0980],\n",
       "        [-0.1098,  1.1648,  0.1510,  0.2665,  0.6409, -0.1138, -0.1003,  0.0861,\n",
       "         -1.0554, -0.9030],\n",
       "        [ 1.2003, -0.2031,  1.0916, -0.9616, -0.9538, -0.5877,  0.9089, -0.0357,\n",
       "         -1.1975,  0.0137],\n",
       "        [ 0.7003,  0.9853,  1.0216,  1.4389,  1.0287, -0.9202,  0.7173, -0.7284,\n",
       "         -1.7712, -1.4369],\n",
       "        [-0.5258, -0.2286,  0.7402, -1.3012,  0.7608,  0.5013, -1.6574,  0.8821,\n",
       "          0.4218,  0.0937],\n",
       "        [-0.5738,  0.6106, -1.2846,  0.2088,  0.6097,  0.6889,  0.1293, -1.3548,\n",
       "          1.1815,  0.9496],\n",
       "        [ 0.8577,  0.0083,  1.1482, -1.2681,  0.3855,  0.3417,  1.0370, -0.8163,\n",
       "         -2.0525, -3.5999],\n",
       "        [-1.7223,  0.1567, -0.6603,  0.5039,  0.2643,  0.2024,  0.4577,  0.1151,\n",
       "          0.6589,  0.0607],\n",
       "        [-0.0341,  0.0464, -1.6728, -1.0466,  1.6483, -0.1756,  0.4390, -2.1069,\n",
       "          0.7274, -0.0168],\n",
       "        [ 0.3077,  0.9375, -0.7044, -2.1294,  1.3426, -1.1512, -1.1634, -0.5999,\n",
       "          0.5164,  2.5314],\n",
       "        [-0.7205,  0.1428,  0.7336,  2.0457,  0.8828, -1.2470,  1.8857, -2.7601,\n",
       "         -0.7439,  1.4593],\n",
       "        [-0.9581,  0.9896, -1.5635,  1.1223,  1.1554,  0.1906,  0.6988,  0.4387,\n",
       "         -0.0772, -1.5614],\n",
       "        [-0.0942, -2.0578,  0.0051,  1.3884,  1.6294,  1.1273,  0.6226,  1.4678,\n",
       "         -0.0980, -1.1764],\n",
       "        [ 2.1519, -1.0336,  0.1525, -1.3781,  2.5383,  0.4253,  0.8282, -0.1777,\n",
       "         -1.8343, -0.4281],\n",
       "        [ 0.5632, -0.1625, -1.4979, -2.5159,  1.5311,  0.9675, -2.0930, -2.1694,\n",
       "         -0.2858, -0.0626],\n",
       "        [ 0.0858,  1.1232, -0.3195, -0.0956,  1.9448, -0.4978,  0.4076,  1.1132,\n",
       "         -1.1592,  1.6390],\n",
       "        [-1.9295,  0.8855,  2.3858,  1.1477, -2.2146,  0.3662,  0.8627, -0.4006,\n",
       "         -0.4483,  1.4773],\n",
       "        [-0.4818, -1.4788, -0.2791,  1.7269,  2.2692, -0.8712,  1.0900, -0.1131,\n",
       "          1.3252,  1.4816],\n",
       "        [-0.0076,  0.3462, -0.2082, -1.3999, -1.1142,  0.4423, -1.6677,  0.8328,\n",
       "          0.6411, -2.5204],\n",
       "        [-0.9237, -0.2057,  0.0575, -0.0689, -0.8295,  0.3261,  1.1213,  1.0294,\n",
       "          1.2679,  1.7046],\n",
       "        [-0.7344,  0.3920, -1.4195, -1.7281,  0.2115, -0.7145,  0.2686,  0.6688,\n",
       "          2.6483,  0.9447],\n",
       "        [ 0.7048, -0.2817, -0.1333,  0.0322,  0.0703, -0.2849,  0.6402, -0.7253,\n",
       "          0.0045, -0.3375],\n",
       "        [-0.9899, -0.9268,  0.3851,  0.4369, -0.3183, -0.5668, -0.2929,  1.1413,\n",
       "          1.8058,  1.1356],\n",
       "        [ 0.5045, -0.8949, -0.4546,  0.6649,  0.0551,  1.0366, -0.0642,  1.2461,\n",
       "          1.1234,  0.6109],\n",
       "        [ 1.1736, -1.6834,  1.2747, -0.1822,  0.3045, -0.1132,  0.1694, -1.0916,\n",
       "         -1.2034,  1.5288],\n",
       "        [ 0.1020, -0.4889, -0.8438, -0.2419,  0.4558, -1.8257,  0.2990,  0.3072,\n",
       "          0.7898, -1.2480],\n",
       "        [ 0.5049, -0.4245,  0.1533, -2.6988,  0.1675, -1.2774,  0.0389, -1.4716,\n",
       "          0.6977, -0.4440],\n",
       "        [ 1.7570,  0.2451, -1.3595,  1.1092, -1.6170, -2.0438, -0.9573,  0.4115,\n",
       "         -1.5679, -0.0627],\n",
       "        [ 0.2247, -0.6782,  1.2800, -0.3253,  0.7091, -0.9646,  1.1564,  1.9339,\n",
       "         -2.5804, -1.0384],\n",
       "        [ 0.5718,  0.5844, -0.2813, -1.0865, -0.8192,  0.9211,  0.0356,  2.7425,\n",
       "         -0.8648,  0.8273],\n",
       "        [-2.8502, -0.4550,  0.3271,  0.1994, -0.2074,  0.6845,  0.2287, -1.4363,\n",
       "          0.2149, -0.5067],\n",
       "        [ 1.2372,  2.2046, -0.0037, -0.4553, -1.5853,  0.4827, -0.8419,  0.8055,\n",
       "         -1.0322,  0.6236],\n",
       "        [ 0.3298, -1.1399,  0.4338, -0.4023, -0.3799, -0.8548, -0.4773, -1.5626,\n",
       "         -0.4626, -1.3003],\n",
       "        [ 0.4271, -0.2977, -0.1282, -1.5232,  0.5206,  0.4068,  0.1809, -0.1824,\n",
       "         -0.4854, -0.0372],\n",
       "        [ 0.5238, -0.2303, -0.0802,  1.1024, -0.7837,  0.0412, -0.3198,  0.7190,\n",
       "          0.5526, -0.6054],\n",
       "        [ 0.3771,  0.8189, -0.6581,  0.7195, -0.9273,  0.5804,  1.1074, -0.4830,\n",
       "         -0.1834,  0.2543],\n",
       "        [-0.7421, -1.1227, -1.2894,  0.9301, -0.9133, -0.1154,  1.2904, -1.1230,\n",
       "         -1.6303,  0.9207],\n",
       "        [ 1.3394, -1.3818, -0.9463,  0.3387,  0.7149, -1.6960,  0.7980,  0.6238,\n",
       "         -1.5634, -0.5079],\n",
       "        [ 0.2766,  0.5197,  1.2918,  0.6396,  1.4447,  2.3169, -0.2015, -0.3772,\n",
       "         -0.0581,  0.4676],\n",
       "        [ 0.6889,  0.5457, -1.7788, -2.0176, -0.4570, -1.3539,  0.6003, -0.5414,\n",
       "         -0.7044,  0.1458],\n",
       "        [ 1.7873, -0.4265,  2.9083,  0.1970, -0.1216, -0.1575, -1.7667, -1.2130,\n",
       "         -0.6250, -0.2626],\n",
       "        [ 0.3960,  0.5121,  2.1085, -0.4003,  0.6348, -0.0832, -0.0219, -0.8819,\n",
       "         -1.1875, -0.4579],\n",
       "        [-0.6448, -1.4807,  1.6310,  0.1920,  0.3502,  0.6868,  0.9355, -0.1187,\n",
       "          0.0530, -0.8876],\n",
       "        [-1.5989,  0.3227,  1.6714, -0.3839,  3.2530,  0.9666, -0.1849, -0.6369,\n",
       "         -0.5021,  1.9533],\n",
       "        [ 0.9929,  0.1424,  0.7454, -1.4279, -0.0431, -0.7113, -0.2084, -1.0627,\n",
       "         -0.1949, -2.9209],\n",
       "        [-0.6931, -0.1894,  0.9089,  0.7986, -0.7030, -0.3438,  2.2227, -0.3683,\n",
       "          0.2988, -0.9508],\n",
       "        [-0.2663, -0.2194,  2.1473,  1.0124,  0.1553, -1.5699, -1.4155,  0.4721,\n",
       "         -0.3242,  0.6301],\n",
       "        [ 0.3303,  0.8608, -1.5386,  0.6464,  0.2438,  1.6194,  1.7629,  1.2235,\n",
       "         -1.1595, -0.8852],\n",
       "        [ 0.2067, -1.0145, -0.8078, -1.8299,  1.7961,  0.2987,  0.0559,  1.4651,\n",
       "          0.0218, -0.3074],\n",
       "        [ 0.5122,  1.3416,  1.5732, -0.5166,  0.5433,  0.6253,  0.1214, -1.6700,\n",
       "          0.2863,  0.0048],\n",
       "        [ 0.2504,  0.0066, -0.1557,  1.0145,  0.8733,  2.2449, -0.1288,  0.2327,\n",
       "         -0.8610,  1.0768],\n",
       "        [-1.3217, -1.0351,  0.0151,  0.5835, -0.8542, -0.4716,  2.6591,  0.8610,\n",
       "         -1.5832, -0.2529],\n",
       "        [-0.0553,  0.8145,  1.5073, -0.3436, -0.2075,  1.2064,  0.5473, -0.7944,\n",
       "          0.3279,  0.2057],\n",
       "        [-0.5430,  0.6388,  1.2515,  0.0694, -0.1738, -0.0253,  0.3990, -0.3086,\n",
       "         -0.4264,  0.2276],\n",
       "        [ 0.8937,  0.1535, -0.6357, -0.2875, -0.2984,  0.1088,  0.3621,  1.2249,\n",
       "         -0.1742, -0.2904],\n",
       "        [-0.1597,  0.4471, -0.3684,  1.2242,  0.2586, -0.1785, -0.3745,  0.3402,\n",
       "          1.1596, -2.0362],\n",
       "        [ 0.9260,  0.2680,  0.4114, -0.3369, -1.6393,  0.1079,  0.6095,  0.5672,\n",
       "          0.1475,  1.1104],\n",
       "        [-0.6236,  1.7117, -1.1030,  0.3520, -0.4846, -1.5752, -1.0528,  0.8220,\n",
       "          0.1502, -0.1771],\n",
       "        [ 0.5985,  0.3407,  0.8552,  1.6691,  0.0997, -0.1714, -0.4410,  0.0174,\n",
       "         -0.6976,  0.5819],\n",
       "        [ 1.4342,  1.7270, -0.1195,  0.7666, -0.1857,  1.9586, -0.8388,  0.0354,\n",
       "          0.1655,  0.6184],\n",
       "        [-1.9246,  1.1933,  0.4482,  0.1838,  0.2716, -0.0239,  0.7240, -0.2243,\n",
       "         -0.7213,  0.4713],\n",
       "        [ 0.1255,  0.8669,  1.4883, -0.1989,  0.0573,  0.2776,  0.6703,  0.3408,\n",
       "          1.9295, -0.1732],\n",
       "        [ 1.2602, -0.7479, -0.6995,  0.7555,  0.5878, -0.4311,  0.7399,  0.2560,\n",
       "         -1.8465,  1.0930],\n",
       "        [-1.9534,  0.6061,  0.1010, -0.5811,  0.0159,  0.7965, -0.4258,  0.9612,\n",
       "         -1.9133,  1.0478],\n",
       "        [ 0.5393,  0.7728,  0.5766, -0.0804,  0.8127, -1.5338, -1.6240, -1.2564,\n",
       "          1.1751,  0.8517],\n",
       "        [ 0.0346,  2.2681,  1.1721,  0.2780, -0.4627, -1.0282, -0.1852,  0.0624,\n",
       "         -1.0500,  0.2609],\n",
       "        [-1.0379, -0.5882,  1.8210,  0.2611,  0.3383,  0.0292,  1.2330,  1.4203,\n",
       "          0.3440,  0.8678],\n",
       "        [-1.0934, -1.5890,  0.0668, -0.6249,  0.4916, -0.4862, -0.1999, -1.1900,\n",
       "         -0.1038, -0.1868],\n",
       "        [ 0.5327,  1.0105,  0.4499,  0.3727,  0.0373,  1.4545, -0.6986, -0.0959,\n",
       "          0.1557,  0.1474],\n",
       "        [ 1.1012,  0.8289, -0.1576, -0.7277, -1.1086, -0.8009, -1.8934,  1.6168,\n",
       "          0.5026, -0.5141],\n",
       "        [ 1.1828,  0.5552, -0.9796,  0.7057, -0.4287, -0.2922, -0.1072, -0.9530,\n",
       "         -0.5687,  0.6538],\n",
       "        [ 0.5641,  0.5144, -0.2495,  0.1927, -0.8699, -0.5348,  1.0254, -0.1618,\n",
       "         -0.5107,  1.5398],\n",
       "        [-1.1551,  0.7981, -0.3304, -1.0277,  0.4255, -1.9795, -0.8613, -0.9742,\n",
       "          1.4234,  0.9462],\n",
       "        [-0.6160,  0.6586,  0.4557,  0.3554, -1.6160, -0.4815, -0.6280, -0.2782,\n",
       "         -0.5620, -0.0858],\n",
       "        [-1.8018, -0.7610,  1.7128, -1.5227, -0.8926,  0.2291,  0.0546,  0.4165,\n",
       "          0.9386, -0.6289],\n",
       "        [-0.8642,  0.2467, -0.6862,  0.2001, -0.6454,  0.7286,  1.2229, -0.2584,\n",
       "         -0.8262, -1.7991],\n",
       "        [ 0.0737, -0.9096,  1.7369, -0.2754, -0.4958,  0.4970,  0.3997,  1.1010,\n",
       "          0.9453,  0.0291],\n",
       "        [ 0.3720, -1.8486, -0.3647,  0.5876,  1.3878,  1.5420,  0.3296,  0.1771,\n",
       "          1.2740,  0.6583],\n",
       "        [-0.0655, -0.3328,  0.3518, -1.1436,  0.4465, -0.7318, -0.0772, -0.6856,\n",
       "          0.3530,  2.0825],\n",
       "        [-0.3569,  1.0224, -0.1939,  0.4945, -0.5501, -0.5563,  0.2997,  0.7364,\n",
       "         -0.8517,  1.4779],\n",
       "        [ 0.0503, -1.8393, -1.1568,  0.8466, -0.1731,  1.7266,  1.5808,  0.5016,\n",
       "          0.0605, -0.6236],\n",
       "        [ 1.8562, -0.3211, -0.4846, -0.8739, -1.0851, -1.0356,  0.1457,  1.5140,\n",
       "          0.8557, -0.0860],\n",
       "        [-0.2232,  0.2760, -1.2601,  0.3629,  0.2418,  0.2195,  0.0578, -0.8582,\n",
       "         -0.3588, -0.4686],\n",
       "        [ 0.9666, -0.7164,  0.5568, -0.2462,  0.0784,  0.4969, -1.5907,  0.7865,\n",
       "          0.0560, -0.3536],\n",
       "        [-1.3532,  2.3935, -2.0086, -0.9289, -0.3505, -0.2438,  0.6357, -0.1799,\n",
       "         -1.6784, -0.7097],\n",
       "        [-0.5905,  0.3594,  1.4980, -0.3623, -1.1829, -0.5776,  0.1104,  0.9389,\n",
       "          0.5253, -2.3263],\n",
       "        [-0.2378, -1.7670,  0.0748, -0.8862, -0.4017,  0.0423, -0.2579,  0.8234,\n",
       "         -1.3992,  0.0431]])"
      ]
     },
     "execution_count": 15,
     "metadata": {},
     "output_type": "execute_result"
    }
   ],
   "source": [
    "data_x"
   ]
  },
  {
   "cell_type": "markdown",
   "id": "e91cebf7-5c9a-405a-ae70-5acab1819340",
   "metadata": {},
   "source": [
    "We initialized the input data with 100 data samples with 10 features each and respectively initialized the output data with 100 data points."
   ]
  },
  {
   "cell_type": "code",
   "execution_count": 14,
   "id": "ea4cbcc2-3f45-46c3-8b66-25c696b388d9",
   "metadata": {},
   "outputs": [
    {
     "name": "stdout",
     "output_type": "stream",
     "text": [
      "torch.Size([100, 10])\n",
      "torch.Size([100, 1])\n"
     ]
    }
   ],
   "source": [
    "print(data_x.size())\n",
    "print(data_y.size())"
   ]
  },
  {
   "cell_type": "markdown",
   "id": "3ffa419e-f12b-4ad1-ada5-560f4c9c7113",
   "metadata": {},
   "source": [
    "### 3. Define Neural Network"
   ]
  },
  {
   "cell_type": "code",
   "execution_count": 7,
   "id": "85bdabd1-18b8-45bd-9f18-f0d1752875db",
   "metadata": {},
   "outputs": [
    {
     "name": "stdout",
     "output_type": "stream",
     "text": [
      "Sequential(\n",
      "  (0): Linear(in_features=10, out_features=15, bias=True)\n",
      "  (1): ReLU()\n",
      "  (2): Linear(in_features=15, out_features=1, bias=True)\n",
      "  (3): Sigmoid()\n",
      ")\n"
     ]
    }
   ],
   "source": [
    "model = nn.Sequential(nn.Linear(n_input, n_hidden),\n",
    "                      nn.ReLU(),\n",
    "                      nn.Linear(n_hidden, n_out),\n",
    "                      nn.Sigmoid())\n",
    "print(model)"
   ]
  },
  {
   "cell_type": "code",
   "execution_count": 8,
   "id": "f6f6c02d-bf24-4eef-b002-b147b71c09ef",
   "metadata": {},
   "outputs": [],
   "source": [
    "loss_function = nn.MSELoss()\n",
    "optimizer = torch.optim.SGD(model.parameters(), lr=learning_rate)"
   ]
  },
  {
   "cell_type": "markdown",
   "id": "ae1d8eca-1e60-49bc-97c7-63bca1d7649a",
   "metadata": {},
   "source": [
    "### 4. Training Loop"
   ]
  },
  {
   "cell_type": "markdown",
   "id": "90b006e2-ac0c-4711-bc1d-ac67c9014377",
   "metadata": {},
   "source": [
    "Here, we will define the training loop with the following steps:\n",
    "\n",
    "- Forward propagation — compute the predicted y and calculate the current loss\n",
    "- Backward propagation — after each epoch we set the gradients to zero before starting to do backpropagation\n",
    "- Gradient descent — Finally, we will update model parameters by calling optimizer.step() function"
   ]
  },
  {
   "cell_type": "code",
   "execution_count": 11,
   "id": "3c5940f5-048a-439a-bc77-c6c42daf396e",
   "metadata": {},
   "outputs": [],
   "source": [
    "losses = []\n",
    "for epoch in range(10000):\n",
    "    pred_y = model(data_x)\n",
    "    loss = loss_function(pred_y, data_y)\n",
    "    losses.append(loss.item())\n",
    "\n",
    "    model.zero_grad()\n",
    "    loss.backward()\n",
    "\n",
    "    optimizer.step()"
   ]
  },
  {
   "cell_type": "markdown",
   "id": "bf795821-5914-4545-8b53-a6cb4a327f23",
   "metadata": {},
   "source": [
    "### 5. Output"
   ]
  },
  {
   "cell_type": "code",
   "execution_count": 12,
   "id": "78b8fda0-2c16-4074-9bb5-368f85668e69",
   "metadata": {},
   "outputs": [
    {
     "data": {
      "image/png": "[encoded data removed]",
      "text/plain": [
       "<Figure size 640x480 with 1 Axes>"
      ]
     },
     "metadata": {},
     "output_type": "display_data"
    }
   ],
   "source": [
    "import matplotlib.pyplot as plt\n",
    "plt.plot(losses)\n",
    "plt.ylabel('loss')\n",
    "plt.xlabel('epoch')\n",
    "plt.title(\"Learning rate %f\"%(learning_rate))\n",
    "plt.show()"
   ]
  },
  {
   "cell_type": "code",
   "execution_count": null,
   "id": "c8066871-84db-486f-8974-c9db8d143268",
   "metadata": {},
   "outputs": [],
   "source": []
  }
 ],
 "metadata": {
  "kernelspec": {
   "display_name": "Python 3 (ipykernel)",
   "language": "python",
   "name": "python3"
  },
  "language_info": {
   "codemirror_mode": {
    "name": "ipython",
    "version": 3
   },
   "file_extension": ".py",
   "mimetype": "text/x-python",
   "name": "python",
   "nbconvert_exporter": "python",
   "pygments_lexer": "ipython3",
   "version": "3.9.13"
  }
 },
 "nbformat": 4,
 "nbformat_minor": 5
}
